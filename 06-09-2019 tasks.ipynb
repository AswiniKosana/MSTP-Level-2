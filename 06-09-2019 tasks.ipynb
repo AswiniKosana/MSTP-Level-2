{
 "cells": [
  {
   "cell_type": "markdown",
   "metadata": {},
   "source": [
    "Question-1: Write a Python Program to largest of three given numbers (using input statement)\n",
    "Sample:Output:\n",
    "A = 31\n",
    "B = 75\n",
    "C = 21\n",
    "Largest Number is 75\n"
   ]
  },
  {
   "cell_type": "markdown",
   "metadata": {},
   "source": [
    "#### solution for question 1"
   ]
  },
  {
   "cell_type": "code",
   "execution_count": 1,
   "metadata": {},
   "outputs": [
    {
     "name": "stdout",
     "output_type": "stream",
     "text": [
      "enter a value31\n",
      "enter b value75\n",
      "enter c value21\n",
      "75 is largest number\n"
     ]
    }
   ],
   "source": [
    "a= int(input(\"enter a value\"))\n",
    "b= int(input(\"enter b value\"))\n",
    "c= int(input(\"enter c value\"))\n",
    "if (a>b)and(a>c):\n",
    "    print(a,'is largest number')\n",
    "elif (b>a)and(b>c):\n",
    "    print(b,'is largest number')\n",
    "elif (c>b)and(c>a):\n",
    "    print(c,'is largest number')\n",
    "else:\n",
    "    print(\"three numbers are equal\")\n"
   ]
  },
  {
   "cell_type": "markdown",
   "metadata": {},
   "source": [
    "Question -2: Write a python program to find the given number(N) in given range(lower bound-upper bound)\n",
    "Input Format:\n",
    "Enter Lower bound number: 10\n",
    "Enter Upper bound number: 20\n",
    "Enter N: 15\n",
    "Output Format:\n",
    "given number is exist"
   ]
  },
  {
   "cell_type": "markdown",
   "metadata": {},
   "source": [
    "#### solution for question 2"
   ]
  },
  {
   "cell_type": "code",
   "execution_count": 2,
   "metadata": {},
   "outputs": [
    {
     "name": "stdout",
     "output_type": "stream",
     "text": [
      "enter lower bound value10\n",
      "enter upper bound value20\n",
      "15\n",
      "given number is exist\n"
     ]
    }
   ],
   "source": [
    "a= int(input(\"enter lower bound value\"))\n",
    "b= int(input(\"enter upper bound value\"))\n",
    "n= int(input())\n",
    "if (a<=n)and(n<=b):\n",
    "    print('given number is exist')\n",
    "else:\n",
    "    print('given number is not exist')"
   ]
  },
  {
   "cell_type": "code",
   "execution_count": null,
   "metadata": {},
   "outputs": [],
   "source": []
  }
 ],
 "metadata": {
  "kernelspec": {
   "display_name": "Python 3",
   "language": "python",
   "name": "python3"
  },
  "language_info": {
   "codemirror_mode": {
    "name": "ipython",
    "version": 3
   },
   "file_extension": ".py",
   "mimetype": "text/x-python",
   "name": "python",
   "nbconvert_exporter": "python",
   "pygments_lexer": "ipython3",
   "version": "3.7.3"
  }
 },
 "nbformat": 4,
 "nbformat_minor": 2
}
